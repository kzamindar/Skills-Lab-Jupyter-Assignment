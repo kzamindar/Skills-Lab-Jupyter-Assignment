{
  "metadata": {
    "kernelspec": {
      "name": "python",
      "display_name": "Pyolite",
      "language": "python"
    },
    "language_info": {
      "codemirror_mode": {
        "name": "python",
        "version": 3
      },
      "file_extension": ".py",
      "mimetype": "text/x-python",
      "name": "python",
      "nbconvert_exporter": "python",
      "pygments_lexer": "ipython3",
      "version": "3.8"
    }
  },
  "nbformat_minor": 4,
  "nbformat": 4,
  "cells": [
    {
      "cell_type": "markdown",
      "source": "<center>\n    <img src=\"https://s3-api.us-geo.objectstorage.softlayer.net/cf-courses-data/CognitiveClass/Logos/organization_logo/organization_logo.png\" width=\"300\" alt=\"cognitiveclass.ai logo\"  />\n</center>\n",
      "metadata": {}
    },
    {
      "cell_type": "markdown",
      "source": "#### Add your code below following the instructions given in the course\n",
      "metadata": {}
    },
    {
      "cell_type": "markdown",
      "source": "# My Jupyter Notebook on IBM Watson Studio",
      "metadata": {}
    },
    {
      "cell_type": "markdown",
      "source": "**Kshitiz Zamindar**\n\nData Scientist",
      "metadata": {}
    },
    {
      "cell_type": "markdown",
      "source": "*I like Data Science because using several tools and softwares we can easily solve complex real world problems without any hassle. \"Data is the new oil\", I was very much moved by this quote and thus got curious about data and the different streams of data. Hence, I decided to become a Data Scientist.*",
      "metadata": {}
    },
    {
      "cell_type": "markdown",
      "source": "### The below code finds the factorial of a number recursively.",
      "metadata": {}
    },
    {
      "cell_type": "code",
      "source": "def fact(n):\n    if(n==1):\n        return n\n    return n * fact(n-1)\nfact(5)",
      "metadata": {
        "trusted": true
      },
      "execution_count": 4,
      "outputs": [
        {
          "execution_count": 4,
          "output_type": "execute_result",
          "data": {
            "text/plain": "120"
          },
          "metadata": {}
        }
      ]
    },
    {
      "cell_type": "markdown",
      "source": "=> Bulleted List:\n* Naruto\n* One Piece\n* Dragon Ball\n\n\n\n=> Numbered List:\n1. Naruto\n2. Demon Slayer\n3. Fairy Tail\n",
      "metadata": {}
    }
  ]
}