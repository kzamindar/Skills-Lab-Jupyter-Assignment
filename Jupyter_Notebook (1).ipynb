{
  "cells": [
    {
      "cell_type": "markdown",
      "metadata": {},
      "source": [
        "<center>\n",
        "    <img src=\"https://s3-api.us-geo.objectstorage.softlayer.net/cf-courses-data/CognitiveClass/Logos/organization_logo/organization_logo.png\" width=\"300\" alt=\"cognitiveclass.ai logo\"  />\n",
        "</center>\n"
      ]
    },
    {
      "cell_type": "markdown",
      "metadata": {},
      "source": [
        "#### Add your code below following the instructions given in the course\n"
      ]
    },
    {
      "cell_type": "markdown",
      "metadata": {},
      "source": [
        "# My Jupyter Notebook on IBM Watson Studio"
      ]
    },
    {
      "cell_type": "markdown",
      "metadata": {},
      "source": [
        "**Kshitiz Zamindar**\n",
        "\n",
        "Data Scientist"
      ]
    },
    {
      "cell_type": "markdown",
      "metadata": {},
      "source": [
        "*I like Data Science because using several tools and softwares we can easily solve complex real world problems without any hassle. \"Data is the new oil\", I was very much moved by this quote and thus got curious about data and the different streams of data. Hence, I decided to become a Data Scientist.*"
      ]
    },
    {
      "cell_type": "markdown",
      "metadata": {},
      "source": [
        "### The below code finds the factorial of a number recursively."
      ]
    },
    {
      "cell_type": "code",
      "execution_count": 4,
      "metadata": {
        "trusted": true
      },
      "outputs": [
        {
          "data": {
            "text/plain": [
              "120"
            ]
          },
          "execution_count": 4,
          "metadata": {},
          "output_type": "execute_result"
        }
      ],
      "source": [
        "def fact(n):\n",
        "    if(n==1):\n",
        "        return n\n",
        "    return n * fact(n-1)\n",
        "fact(5)"
      ]
    },
    {
      "cell_type": "markdown",
      "metadata": {},
      "source": [
        "=> Bulleted List:\n",
        "* Naruto\n",
        "* One Piece\n",
        "* Dragon Ball\n",
        "\n",
        "=> Numbered List:\n",
        "1. Naruto\n",
        "2. Demon Slayer\n",
        "3. Solo Leveling\n",
        "\n",
        "=> To know the latest news related to anime, visit [CBR](https://www.cbr.com/category/anime-news/)."
      ]
    }
  ],
  "metadata": {
    "kernelspec": {
      "display_name": "Pyolite",
      "language": "python",
      "name": "python"
    },
    "language_info": {
      "codemirror_mode": {
        "name": "python",
        "version": 3
      },
      "file_extension": ".py",
      "mimetype": "text/x-python",
      "name": "python",
      "nbconvert_exporter": "python",
      "pygments_lexer": "ipython3",
      "version": "3.8"
    }
  },
  "nbformat": 4,
  "nbformat_minor": 4
}
